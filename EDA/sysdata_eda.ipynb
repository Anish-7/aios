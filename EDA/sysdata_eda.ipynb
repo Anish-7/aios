{
 "cells": [
  {
   "cell_type": "markdown",
   "metadata": {},
   "source": [
    "*IMPORT DATA FROM DB"
   ]
  },
  {
   "cell_type": "code",
   "execution_count": null,
   "metadata": {},
   "outputs": [],
   "source": [
    "import sqlite3\n",
    "import pandas as pd\n",
    "import matplotlib as plt\n",
    "\n",
    "\n",
    "dbcon=sqlite3.connect('sysdata.db')\n",
    "data=pd.read_sql_query(\n",
    "    'SELECT * FROM sysdata',dbcon\n",
    ")\n",
    "print(data)"
   ]
  },
  {
   "cell_type": "markdown",
   "metadata": {},
   "source": [
    "*OVERVIEW OF DATA"
   ]
  },
  {
   "cell_type": "code",
   "execution_count": null,
   "metadata": {},
   "outputs": [],
   "source": [
    "data.describe()\n",
    "data.plot.hist(bins=12, alpha=0.5)"
   ]
  },
  {
   "cell_type": "code",
   "execution_count": null,
   "metadata": {},
   "outputs": [],
   "source": [
    "data.describe()\n",
    "for i,row in data.iterrows():\n",
    "    data.loc[i,'cpuavg']=(row.cpu0+row.cpu1+row.cpu2)/3"
   ]
  },
  {
   "cell_type": "markdown",
   "metadata": {},
   "source": [
    "*ADD STATE COLUMN TO CLASSIFY THE STATE OF CPU -IDLE,NORMAL,HIGH"
   ]
  },
  {
   "cell_type": "code",
   "execution_count": null,
   "metadata": {},
   "outputs": [],
   "source": [
    "for i,row in data.iterrows():\n",
    "    if row.cpuavg <=5.0:\n",
    "        data.loc[i,'state']='idle'\n",
    "    elif row.cpuavg >5.0 and row.cpuavg<=35.0:\n",
    "        data.loc[i,'state']='normal'\n",
    "    elif row.cpuavg >35.0:\n",
    "        data.loc[i,'state']='high'\n"
   ]
  },
  {
   "cell_type": "code",
   "execution_count": null,
   "metadata": {},
   "outputs": [],
   "source": [
    "data['cpuavg'].plot.kde()\n",
    "data['state'].value_counts()\n",
    "# data=data.dropna()\n",
    "# data"
   ]
  },
  {
   "cell_type": "markdown",
   "metadata": {},
   "source": [
    "*To convert the new datadrame of label column to csv"
   ]
  },
  {
   "cell_type": "code",
   "execution_count": null,
   "metadata": {},
   "outputs": [],
   "source": [
    "data.to_csv('state.csv')"
   ]
  },
  {
   "cell_type": "markdown",
   "metadata": {},
   "source": [
    "#ROLLING WINDOW MOVING AVERAGE"
   ]
  },
  {
   "cell_type": "markdown",
   "metadata": {},
   "source": [
    "*first see info atleast one column should be of datetime datatype*"
   ]
  },
  {
   "cell_type": "markdown",
   "metadata": {},
   "source": [
    "\n",
    "set index to datetime column and then convertobject type to datetime"
   ]
  },
  {
   "cell_type": "code",
   "execution_count": null,
   "metadata": {},
   "outputs": [],
   "source": [
    "# data.info()\n",
    "data['datetime']=pd.to_datetime(data['datetime'])\n",
    "data.info()\n"
   ]
  },
  {
   "cell_type": "markdown",
   "metadata": {},
   "source": [
    "then set index to datetime"
   ]
  },
  {
   "cell_type": "code",
   "execution_count": null,
   "metadata": {},
   "outputs": [],
   "source": [
    "data=data.set_index('datetime')\n",
    "data['cpuavg']=data['cpu0'].rolling(window=5,min_periods=0).mean()\n",
    "data"
   ]
  },
  {
   "cell_type": "code",
   "execution_count": null,
   "metadata": {},
   "outputs": [],
   "source": [
    "\n",
    "data['cpu0'].plot()\n",
    "data['cpuavg'].plot()"
   ]
  },
  {
   "cell_type": "code",
   "execution_count": null,
   "metadata": {},
   "outputs": [],
   "source": []
  }
 ],
 "metadata": {
  "kernelspec": {
   "display_name": "Python 3.10.6 ('aios')",
   "language": "python",
   "name": "python3"
  },
  "language_info": {
   "codemirror_mode": {
    "name": "ipython",
    "version": 3
   },
   "file_extension": ".py",
   "mimetype": "text/x-python",
   "name": "python",
   "nbconvert_exporter": "python",
   "pygments_lexer": "ipython3",
   "version": "3.10.6"
  },
  "orig_nbformat": 4,
  "vscode": {
   "interpreter": {
    "hash": "5aabff0614aeac4c261834ca404c2b3d0695a861627c4de874b595b643ccd977"
   }
  }
 },
 "nbformat": 4,
 "nbformat_minor": 2
}
